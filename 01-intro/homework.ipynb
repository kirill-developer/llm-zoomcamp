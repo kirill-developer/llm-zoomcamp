{
 "cells": [
  {
   "cell_type": "code",
   "execution_count": 1,
   "id": "074165f1-9fec-4d8d-a5be-219e01535de0",
   "metadata": {},
   "outputs": [],
   "source": [
    "import openai"
   ]
  },
  {
   "cell_type": "code",
   "execution_count": 2,
   "id": "d4822637-f5e5-4948-b70c-b72058e65daf",
   "metadata": {},
   "outputs": [],
   "source": [
    "from openai import OpenAI"
   ]
  },
  {
   "cell_type": "code",
   "execution_count": 3,
   "id": "d4291d31-8dd7-4938-b5c9-5ab477b5ae71",
   "metadata": {},
   "outputs": [],
   "source": [
    "client = OpenAI()"
   ]
  },
  {
   "cell_type": "code",
   "execution_count": 4,
   "id": "e6ba1da6-e635-4557-8823-48210a00e9eb",
   "metadata": {},
   "outputs": [],
   "source": [
    "import os"
   ]
  },
  {
   "cell_type": "code",
   "execution_count": 7,
   "id": "990ec60a-4b0a-4db6-b69d-d2d9dc01b098",
   "metadata": {},
   "outputs": [],
   "source": [
    "openai.api_key = os.getenv('OPENAI_TOKEN')"
   ]
  },
  {
   "cell_type": "code",
   "execution_count": 8,
   "id": "c6f299c7-16b1-47c5-8636-b8895c5758be",
   "metadata": {},
   "outputs": [],
   "source": [
    "response = client.chat.completions.create(\n",
    "    model='gpt-4o',\n",
    "    messages=[{\"role\": \"user\", \"content\": \"is it too late to join the course?\"}]\n",
    ")"
   ]
  },
  {
   "cell_type": "code",
   "execution_count": 9,
   "id": "d470c16b-577e-4080-8ff7-0421e4b2c4d9",
   "metadata": {},
   "outputs": [
    {
     "data": {
      "text/plain": [
       "\"It depends on the specific course and its enrollment policies. Some courses may have rolling admissions or allow students to join at any time, while others may have strict deadlines. Here are a few steps you can take to find out if it’s too late to join:\\n\\n1. **Check the Course Website:** Look for any information regarding enrollment deadlines or late registration policies.\\n2. **Contact the Instructor or Administration:** Reach out to the course instructor or the administrative office handling registrations. They can provide you with the most accurate information regarding enrollment.\\n3. **Look for Prerequisites and Course Start Dates:** Verify if there are prerequisites you need to meet before joining and check the start dates to see if you’ve missed any critical information or classes.\\n4. **Explore Alternative Options:** If it's too late to join the current session, ask if there’s a possibility to join a future session or course offering.\\n\\nTaking these steps will give you a clear idea of whether you can still join the course or if you need to consider other options.\""
      ]
     },
     "execution_count": 9,
     "metadata": {},
     "output_type": "execute_result"
    }
   ],
   "source": [
    "response.choices[0].message.content"
   ]
  },
  {
   "cell_type": "code",
   "execution_count": null,
   "id": "1c783049-987b-4364-9c85-53bf6e16eb64",
   "metadata": {},
   "outputs": [],
   "source": []
  }
 ],
 "metadata": {
  "kernelspec": {
   "display_name": "Python 3 (ipykernel)",
   "language": "python",
   "name": "python3"
  },
  "language_info": {
   "codemirror_mode": {
    "name": "ipython",
    "version": 3
   },
   "file_extension": ".py",
   "mimetype": "text/x-python",
   "name": "python",
   "nbconvert_exporter": "python",
   "pygments_lexer": "ipython3",
   "version": "3.10.13"
  }
 },
 "nbformat": 4,
 "nbformat_minor": 5
}
