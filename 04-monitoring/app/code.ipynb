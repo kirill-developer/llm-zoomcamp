{
 "cells": [
  {
   "cell_type": "code",
   "execution_count": 70,
   "metadata": {},
   "outputs": [],
   "source": [
    "import requests\n",
    "import pandas as pd\n",
    "import io\n",
    "from tqdm import tqdm\n",
    "import numpy as np"
   ]
  },
  {
   "cell_type": "code",
   "execution_count": 54,
   "metadata": {},
   "outputs": [],
   "source": [
    "BASE_URL = \"https://github.com/DataTalksClub/llm-zoomcamp/blob/main\""
   ]
  },
  {
   "cell_type": "code",
   "execution_count": 55,
   "metadata": {},
   "outputs": [],
   "source": [
    "def fetch_documents():\n",
    "    print(\"Fetching documents...\")\n",
    "    relative_url = \"04-monitoring/data/results-gpt4o-mini.csv\"\n",
    "    docs_url = f\"{BASE_URL}/{relative_url}?raw=1\"\n",
    "    docs_response = requests.get(docs_url)\n",
    "    \n",
    "    if docs_response.status_code == 200:\n",
    "        # Read the CSV content\n",
    "        csv_content = docs_response.content.decode('utf-8')\n",
    "        # Load CSV content into a pandas DataFrame\n",
    "        df = pd.read_csv(io.StringIO(csv_content))\n",
    "        print(f\"Fetched {len(df)} documents\")\n",
    "        return df\n",
    "    else:\n",
    "        print(f\"Failed to fetch documents. Status code: {docs_response.status_code}\")\n",
    "        return pd.DataFrame()"
   ]
  },
  {
   "cell_type": "code",
   "execution_count": 56,
   "metadata": {},
   "outputs": [
    {
     "name": "stdout",
     "output_type": "stream",
     "text": [
      "Fetching documents...\n",
      "Fetched 1830 documents\n",
      "                                          answer_llm  \\\n",
      "0  You can sign up for the course by visiting the...   \n",
      "1  You can sign up using the link provided in the...   \n",
      "2  Yes, there is an FAQ for the Machine Learning ...   \n",
      "3  The context does not provide any specific info...   \n",
      "4  To structure your questions and answers for th...   \n",
      "\n",
      "                                         answer_orig  document  \\\n",
      "0  Machine Learning Zoomcamp FAQ\\nThe purpose of ...  0227b872   \n",
      "1  Machine Learning Zoomcamp FAQ\\nThe purpose of ...  0227b872   \n",
      "2  Machine Learning Zoomcamp FAQ\\nThe purpose of ...  0227b872   \n",
      "3  Machine Learning Zoomcamp FAQ\\nThe purpose of ...  0227b872   \n",
      "4  Machine Learning Zoomcamp FAQ\\nThe purpose of ...  0227b872   \n",
      "\n",
      "                                            question  \\\n",
      "0                Where can I sign up for the course?   \n",
      "1                 Can you provide a link to sign up?   \n",
      "2  Is there an FAQ for this Machine Learning course?   \n",
      "3  Does this course have a GitHub repository for ...   \n",
      "4  How can I structure my questions and answers f...   \n",
      "\n",
      "                      course  \n",
      "0  machine-learning-zoomcamp  \n",
      "1  machine-learning-zoomcamp  \n",
      "2  machine-learning-zoomcamp  \n",
      "3  machine-learning-zoomcamp  \n",
      "4  machine-learning-zoomcamp  \n",
      "Rows in df:  1830\n"
     ]
    }
   ],
   "source": [
    "results_gpt4o = fetch_documents()\n",
    "print(results_gpt4o.head())\n",
    "print(\"Rows in df: \", len(results_gpt4o))"
   ]
  },
  {
   "cell_type": "code",
   "execution_count": 57,
   "metadata": {},
   "outputs": [
    {
     "name": "stdout",
     "output_type": "stream",
     "text": [
      "Rows in df:  300\n"
     ]
    }
   ],
   "source": [
    "#limiting df to 300 first 300 entities\n",
    "\n",
    "results_gpt4o = results_gpt4o.iloc[:300]\n",
    "print(\"Rows in df: \", len(documents_df))"
   ]
  },
  {
   "cell_type": "code",
   "execution_count": 58,
   "metadata": {},
   "outputs": [
    {
     "name": "stderr",
     "output_type": "stream",
     "text": [
      "You try to use a model that was created with version 3.0.0.dev0, however, your version is 2.7.0. This might cause unexpected behavior or errors. In that case, try to update to the latest version.\n",
      "\n",
      "\n",
      "\n"
     ]
    }
   ],
   "source": [
    "from sentence_transformers import SentenceTransformer\n",
    "embedding_model = SentenceTransformer(\"multi-qa-mpnet-base-dot-v1\")"
   ]
  },
  {
   "cell_type": "code",
   "execution_count": 59,
   "metadata": {},
   "outputs": [],
   "source": [
    "# Function to encode a query using the embedding model\n",
    "def get_query_vector(query):\n",
    "    return embedding_model.encode(query)"
   ]
  },
  {
   "cell_type": "code",
   "execution_count": 60,
   "metadata": {},
   "outputs": [
    {
     "name": "stdout",
     "output_type": "stream",
     "text": [
      "First vector value of the encoded user query: -0.42244655\n"
     ]
    }
   ],
   "source": [
    "# Encode the specific sentence and print the first vector value\n",
    "answer_llm = results_gpt4o.iloc[0].answer_llm\n",
    "query_embedding = get_query_vector(answer_llm)\n",
    "print(\"First vector value of the encoded user query:\", query_embedding[0])"
   ]
  },
  {
   "cell_type": "code",
   "execution_count": 61,
   "metadata": {},
   "outputs": [
    {
     "data": {
      "text/plain": [
       "{'answer_llm': 'You can sign up for the course by visiting the course page at [http://mlzoomcamp.com/](http://mlzoomcamp.com/).',\n",
       " 'answer_orig': 'Machine Learning Zoomcamp FAQ\\nThe purpose of this document is to capture frequently asked technical questions.\\nWe did this for our data engineering course and it worked quite well. Check this document for inspiration on how to structure your questions and answers:\\nData Engineering Zoomcamp FAQ\\nIn the course GitHub repository there’s a link. Here it is: https://airtable.com/shryxwLd0COOEaqXo\\nwork',\n",
       " 'document': '0227b872',\n",
       " 'question': 'Where can I sign up for the course?',\n",
       " 'course': 'machine-learning-zoomcamp'}"
      ]
     },
     "execution_count": 61,
     "metadata": {},
     "output_type": "execute_result"
    }
   ],
   "source": [
    "results_gpt4o_oriented = results_gpt4o.to_dict(orient='records')\n",
    "\n",
    "record = results_gpt4o_oriented[0]\n",
    "\n",
    "record"
   ]
  },
  {
   "cell_type": "code",
   "execution_count": 64,
   "metadata": {},
   "outputs": [],
   "source": [
    "def compute_similarity(record):\n",
    "    answer_orig = record['answer_orig']\n",
    "    answer_llm = record['answer_llm']\n",
    "    \n",
    "    v_llm = get_query_vector(answer_llm)\n",
    "    v_orig = get_query_vector(answer_orig)\n",
    "    \n",
    "    return v_llm.dot(v_orig)"
   ]
  },
  {
   "cell_type": "code",
   "execution_count": 66,
   "metadata": {},
   "outputs": [],
   "source": [
    "similarity = []\n",
    "\n",
    "for record in results_gpt4o_oriented:\n",
    "    sim = compute_similarity(record)\n",
    "    similarity.append(sim)"
   ]
  },
  {
   "cell_type": "code",
   "execution_count": 68,
   "metadata": {},
   "outputs": [
    {
     "data": {
      "text/plain": [
       "count    300.000000\n",
       "mean      27.495996\n",
       "std        6.384742\n",
       "min        4.547924\n",
       "25%       24.307844\n",
       "50%       28.336870\n",
       "75%       31.674309\n",
       "max       39.476013\n",
       "Name: cosine, dtype: float64"
      ]
     },
     "execution_count": 68,
     "metadata": {},
     "output_type": "execute_result"
    }
   ],
   "source": [
    "results_gpt4o['cosine'] = similarity\n",
    "results_gpt4o['cosine'].describe()"
   ]
  },
  {
   "cell_type": "code",
   "execution_count": 74,
   "metadata": {},
   "outputs": [],
   "source": [
    "#making normzlization function\n",
    "def norm(v):\n",
    "    norm = np.sqrt((v * v).sum())\n",
    "    v_norm = v / norm\n",
    "    return v_norm\n",
    "\n",
    "#normalizing cozine similarity vecrors\n",
    "def compute_similarity_norm(record):\n",
    "    answer_orig = record['answer_orig']\n",
    "    answer_llm = record['answer_llm']\n",
    "    \n",
    "    v_llm = norm(get_query_vector(answer_llm))\n",
    "    v_orig = norm(get_query_vector(answer_orig))\n",
    "\n",
    "    return v_llm.dot(v_orig)"
   ]
  },
  {
   "cell_type": "code",
   "execution_count": 75,
   "metadata": {},
   "outputs": [],
   "source": [
    "similarity_norm = []\n",
    "\n",
    "for record in results_gpt4o_oriented:\n",
    "    sim_norm= compute_similarity_norm(record)\n",
    "    similarity_norm.append(sim_norm)"
   ]
  },
  {
   "cell_type": "code",
   "execution_count": 76,
   "metadata": {},
   "outputs": [
    {
     "data": {
      "text/plain": [
       "count    300.000000\n",
       "mean       0.728393\n",
       "std        0.157755\n",
       "min        0.125357\n",
       "25%        0.651273\n",
       "50%        0.763761\n",
       "75%        0.836235\n",
       "max        0.958796\n",
       "Name: cosine_norm, dtype: float64"
      ]
     },
     "execution_count": 76,
     "metadata": {},
     "output_type": "execute_result"
    }
   ],
   "source": [
    "results_gpt4o['cosine_norm'] = similarity_norm\n",
    "results_gpt4o['cosine_norm'].describe()"
   ]
  },
  {
   "cell_type": "code",
   "execution_count": 87,
   "metadata": {},
   "outputs": [],
   "source": [
    "from rouge import Rouge\n",
    "rouge_scorer = Rouge()\n",
    "\n",
    "def rouge_score(r):\n",
    "    scores = rouge_scorer.get_scores(r['answer_llm'], r['answer_orig'])[0]\n",
    "    return scores"
   ]
  },
  {
   "cell_type": "code",
   "execution_count": 95,
   "metadata": {},
   "outputs": [
    {
     "data": {
      "text/plain": [
       "{'rouge-1': {'r': 0.45454545454545453,\n",
       "  'p': 0.45454545454545453,\n",
       "  'f': 0.45454544954545456},\n",
       " 'rouge-2': {'r': 0.21621621621621623,\n",
       "  'p': 0.21621621621621623,\n",
       "  'f': 0.21621621121621637},\n",
       " 'rouge-l': {'r': 0.3939393939393939,\n",
       "  'p': 0.3939393939393939,\n",
       "  'f': 0.393939388939394}}"
      ]
     },
     "execution_count": 95,
     "metadata": {},
     "output_type": "execute_result"
    }
   ],
   "source": [
    "# results_gpt4o.loc[results_gpt4o['document'] == '5170565b']\n",
    "\n",
    "item = results_gpt4o.iloc[10]\n",
    "\n",
    "rouge_full = rouge_score(item)\n",
    "\n",
    "rouge_full"
   ]
  },
  {
   "cell_type": "code",
   "execution_count": 105,
   "metadata": {},
   "outputs": [],
   "source": [
    "def avg_rouge_score(r):\n",
    "    # Extract ROUGE scores\n",
    "    rouge_1 = r['rouge-1']\n",
    "    rouge_2 = r['rouge-2']\n",
    "    rouge_l = r['rouge-l']\n",
    "    \n",
    "    # Compute average for recall, precision, and F1-score\n",
    "    avg_r = np.mean([rouge_1['r'], rouge_2['r'], rouge_l['r']])\n",
    "    avg_p = np.mean([rouge_1['p'], rouge_2['p'], rouge_l['p']])\n",
    "    avg_f = np.mean([rouge_1['f'], rouge_2['f'], rouge_l['f']])\n",
    "    \n",
    "    return {'avg_r': avg_r, 'avg_p': avg_p, 'avg_f': avg_f}\n"
   ]
  },
  {
   "cell_type": "code",
   "execution_count": 106,
   "metadata": {},
   "outputs": [
    {
     "data": {
      "text/plain": [
       "{'avg_r': 0.35490035490035493,\n",
       " 'avg_p': 0.35490035490035493,\n",
       " 'avg_f': 0.35490034990035496}"
      ]
     },
     "execution_count": 106,
     "metadata": {},
     "output_type": "execute_result"
    }
   ],
   "source": [
    "avg_rouge_score(rouge_full)"
   ]
  },
  {
   "cell_type": "code",
   "execution_count": 116,
   "metadata": {},
   "outputs": [],
   "source": [
    "def extract_rouge_f(r):\n",
    "    rouge_1 = r['rouge-1']['f']\n",
    "    rouge_2 = r['rouge-2']['f']\n",
    "    rouge_l = r['rouge-l']['f']\n",
    "    return rouge_1, rouge_2, rouge_l"
   ]
  },
  {
   "cell_type": "code",
   "execution_count": 118,
   "metadata": {},
   "outputs": [],
   "source": [
    "rouge_1_scores = []\n",
    "rouge_2_scores = []\n",
    "rouge_l_scores = []\n",
    "\n",
    "# Compute ROUGE scores for each record and extract the f-scores\n",
    "for record in results_gpt4o_oriented:\n",
    "    rouge_scores = rouge_score(record)\n",
    "    rouge_1, rouge_2, rouge_l = extract_rouge_f(rouge_scores)\n",
    "    rouge_1_scores.append(rouge_1)\n",
    "    rouge_2_scores.append(rouge_2)\n",
    "    rouge_l_scores.append(rouge_l)\n"
   ]
  },
  {
   "cell_type": "code",
   "execution_count": 123,
   "metadata": {},
   "outputs": [
    {
     "data": {
      "text/plain": [
       "[0.09523809178130524,\n",
       " 0.12499999641113292,\n",
       " 0.41558441095631643,\n",
       " 0.2162162117421476,\n",
       " 0.14207649881095297,\n",
       " 0.43137254522106894,\n",
       " 0.41269840791131274,\n",
       " 0.30434782321361065,\n",
       " 0.5172413747919143,\n",
       " 0.34374999517578125,\n",
       " 0.45454544954545456,\n",
       " 0.6060606010606061,\n",
       " 0.753623183415249,\n",
       " 0.7297297247881666,\n",
       " 0.6849315018952901,\n",
       " 0.4772727222727273,\n",
       " 0.47999999515022235,\n",
       " 0.3888888841358025,\n",
       " 0.2857142807256236,\n",
       " 0.37499999505,\n",
       " 0.24719100710011369,\n",
       " 0.2682926793664485,\n",
       " 0.5242718399095109,\n",
       " 0.18918918665814466,\n",
       " 0.5048543641813555,\n",
       " 0.6206896501724138,\n",
       " 0.3333333290589569,\n",
       " 0.4130434736011342,\n",
       " 0.633663361446917,\n",
       " 0.359550557257922,\n",
       " 0.4489795870054144,\n",
       " 0.5217391255198489,\n",
       " 0.4090909041322315,\n",
       " 0.25714285306122453,\n",
       " 0.16666666172839517,\n",
       " 0.19999999601250007,\n",
       " 0.29999999601250005,\n",
       " 0.42857142429705225,\n",
       " 0.23255813514332083,\n",
       " 0.7096774143756504,\n",
       " 0.4848484798530762,\n",
       " 0.3934426180166622,\n",
       " 0.5245901590002687,\n",
       " 0.3692307642414202,\n",
       " 0.22222221852839513,\n",
       " 0.11111110797839514,\n",
       " 0.15789473383656513,\n",
       " 0.09999999711250009,\n",
       " 0.054054050986121434,\n",
       " 0.09302325308815583,\n",
       " 0.44897958683696615,\n",
       " 0.48951048451269014,\n",
       " 0.23943661472227742,\n",
       " 0.4339622598629406,\n",
       " 0.41269840782438905,\n",
       " 0.6578947318732687,\n",
       " 0.45614034683902743,\n",
       " 0.5499999950031251,\n",
       " 0.3529411716825259,\n",
       " 0.31884057488762874,\n",
       " 0.04878048411659754,\n",
       " 0.2033898276931916,\n",
       " 0.19999999722222223,\n",
       " 0.10526315401662063,\n",
       " 0.017094015530718237,\n",
       " 0.6307692257798817,\n",
       " 0.5671641741055915,\n",
       " 0.24444444075061733,\n",
       " 0.35955055819214743,\n",
       " 0.6307692257798817,\n",
       " 0.6279069719632235,\n",
       " 0.5647058776027682,\n",
       " 0.5205479411071496,\n",
       " 0.4054054012271731,\n",
       " 0.6236559090484449,\n",
       " 0.5084745720310256,\n",
       " 0.6923076873208417,\n",
       " 0.41269840815318726,\n",
       " 0.5783132480127741,\n",
       " 0.3103448234423306,\n",
       " 0.5957446759619739,\n",
       " 0.682926824271267,\n",
       " 0.530612240066639,\n",
       " 0.849999995,\n",
       " 0.4313725442522107,\n",
       " 0.5454545407244159,\n",
       " 0.5833333283347223,\n",
       " 0.6050420118099005,\n",
       " 0.3373493936942953,\n",
       " 0.2058823510942907,\n",
       " 0.3571428521428572,\n",
       " 0.4516128982726327,\n",
       " 0.4999999950000001,\n",
       " 0.4615384565680473,\n",
       " 0.5624999950781251,\n",
       " 0.5624999950439454,\n",
       " 0.6101694865268602,\n",
       " 0.2926829226888757,\n",
       " 0.45833332855034725,\n",
       " 0.6415094290067641,\n",
       " 0.803921563644752,\n",
       " 0.3529411723183391,\n",
       " 0.3098591505494942,\n",
       " 0.5176470539072665,\n",
       " 0.20338982747486356,\n",
       " 0.2857142831393495,\n",
       " 0.47904191126250495,\n",
       " 0.3225806415777836,\n",
       " 0.36065573425826397,\n",
       " 0.33333332962333084,\n",
       " 0.3146067366039642,\n",
       " 0.7088607545008814,\n",
       " 0.749999995003125,\n",
       " 0.7160493777168117,\n",
       " 0.7297297247881666,\n",
       " 0.18947368076675905,\n",
       " 0.46399999516928003,\n",
       " 0.19047618631473934,\n",
       " 0.3364485938649664,\n",
       " 0.4171779091527721,\n",
       " 0.3113207509202564,\n",
       " 0.2596153809633876,\n",
       " 0.39823008428851125,\n",
       " 0.3904761867501135,\n",
       " 0.48275861634512496,\n",
       " 0.3111111062320988,\n",
       " 0.2452830138964045,\n",
       " 0.23880596526063722,\n",
       " 0.2285714255469388,\n",
       " 0.4181818131884298,\n",
       " 0.0,\n",
       " 0.0,\n",
       " 0.0,\n",
       " 0.0,\n",
       " 0.0,\n",
       " 0.4594594546649014,\n",
       " 0.2727272696380165,\n",
       " 0.33333332838210644,\n",
       " 0.21359223066075975,\n",
       " 0.2956521704136106,\n",
       " 0.39215685777585546,\n",
       " 0.46017698615396674,\n",
       " 0.46938775017700957,\n",
       " 0.326923071939719,\n",
       " 0.33823528930038926,\n",
       " 0.47311827461671874,\n",
       " 0.324999995378125,\n",
       " 0.2142857095153062,\n",
       " 0.1562499967626954,\n",
       " 0.1176470540235296,\n",
       " 0.4484848435820019,\n",
       " 0.38926174030899513,\n",
       " 0.5157232656065821,\n",
       " 0.3866666619875556,\n",
       " 0.3857142813020409,\n",
       " 0.5238095188095239,\n",
       " 0.44155843659976396,\n",
       " 0.43243242752373995,\n",
       " 0.6095238047238095,\n",
       " 0.5617977478247695,\n",
       " 0.5913043428294897,\n",
       " 0.4693877502040817,\n",
       " 0.3132530076585862,\n",
       " 0.3333333283401921,\n",
       " 0.33684210042326873,\n",
       " 0.48387096311784605,\n",
       " 0.45901638887798996,\n",
       " 0.323529406895545,\n",
       " 0.406504060445502,\n",
       " 0.330275225368235,\n",
       " 0.23636363316363643,\n",
       " 0.27586206530321045,\n",
       " 0.5100671092581416,\n",
       " 0.1869158849296882,\n",
       " 0.36942674666558484,\n",
       " 0.45999999545000014,\n",
       " 0.2716049351013565,\n",
       " 0.4190476143310658,\n",
       " 0.30588234934256053,\n",
       " 0.2716049351013565,\n",
       " 0.36496349866268846,\n",
       " 0.3199999950080001,\n",
       " 0.3561643786216927,\n",
       " 0.2131147491198604,\n",
       " 0.33846153346153857,\n",
       " 0.3636363586363637,\n",
       " 0.4594594545178963,\n",
       " 0.33802816403888125,\n",
       " 0.16666666236979177,\n",
       " 0.379746830578433,\n",
       " 0.3495145583561127,\n",
       " 0.42105262670360116,\n",
       " 0.21052631160357038,\n",
       " 0.2888888839506174,\n",
       " 0.18181817785123974,\n",
       " 0.4848484798484849,\n",
       " 0.40740740265432096,\n",
       " 0.40740740265432096,\n",
       " 0.3076923030547338,\n",
       " 0.1818181780681819,\n",
       " 0.21621621158144638,\n",
       " 0.27999999503200007,\n",
       " 0.2307692257766273,\n",
       " 0.2926829223319453,\n",
       " 0.33333332838333335,\n",
       " 0.42105262659279785,\n",
       " 0.23529411264898129,\n",
       " 0.37209301838831804,\n",
       " 0.3076923041420118,\n",
       " 0.09374999658203137,\n",
       " 0.47191010743592976,\n",
       " 0.2978723354459032,\n",
       " 0.39534883234180646,\n",
       " 0.43373493496879084,\n",
       " 0.43999999500000003,\n",
       " 0.4523809477239229,\n",
       " 0.4112149482714648,\n",
       " 0.4999999952091944,\n",
       " 0.39603959897264984,\n",
       " 0.2222222183371914,\n",
       " 0.319999995288,\n",
       " 0.4444444395654321,\n",
       " 0.24561403064327492,\n",
       " 0.3870967694484912,\n",
       " 0.3030302989302112,\n",
       " 0.16393442269282457,\n",
       " 0.6153846105950033,\n",
       " 0.280701751492767,\n",
       " 0.19672130793872616,\n",
       " 0.1403508742997846,\n",
       " 0.4705882303633218,\n",
       " 0.45161289848074926,\n",
       " 0.36666666202222226,\n",
       " 0.23076922683431958,\n",
       " 0.40677965643205977,\n",
       " 0.7878787829522499,\n",
       " 0.6451612853433925,\n",
       " 0.45161289824661816,\n",
       " 0.6249999952170139,\n",
       " 0.09302325134396992,\n",
       " 0.4406779612754956,\n",
       " 0.4626865621742036,\n",
       " 0.4814814769204391,\n",
       " 0.36363635875964767,\n",
       " 0.16279069464575452,\n",
       " 0.5769230719249261,\n",
       " 0.4144144094472852,\n",
       " 0.4096385494788794,\n",
       " 0.4819277061053855,\n",
       " 0.4337349350210481,\n",
       " 0.2051282017192637,\n",
       " 0.2077922044999157,\n",
       " 0.1558441525518638,\n",
       " 0.22471909681100874,\n",
       " 0.15789473367382278,\n",
       " 0.683760678866243,\n",
       " 0.461538456545858,\n",
       " 0.2916666616753473,\n",
       " 0.13186812691703917,\n",
       " 0.13592232510132926,\n",
       " 0.3676470542138841,\n",
       " 0.2622950788067724,\n",
       " 0.3855421638380026,\n",
       " 0.377777772817284,\n",
       " 0.19354838378251824,\n",
       " 0.14285713893494908,\n",
       " 0.7333333283333333,\n",
       " 0.2631578899584488,\n",
       " 0.2941176421280277,\n",
       " 0.21428571036352043,\n",
       " 0.4511278146305614,\n",
       " 0.5151515102444904,\n",
       " 0.28318583624402854,\n",
       " 0.23999999625000001,\n",
       " 0.23188405300882178,\n",
       " 0.5094339572659311,\n",
       " 0.5794392473403791,\n",
       " 0.37735848556781776,\n",
       " 0.3870967692634986,\n",
       " 0.3333333283352557,\n",
       " 0.5416666616666667,\n",
       " 0.45283018372374517,\n",
       " 0.4827586158382878,\n",
       " 0.408163260308205,\n",
       " 0.26373625985267485,\n",
       " 0.5813953438399135,\n",
       " 0.30769230311952667,\n",
       " 0.24096385042241264,\n",
       " 0.5111111061333333,\n",
       " 0.14285713910714296,\n",
       " 0.5176470540235294,\n",
       " 0.23529411320261448,\n",
       " 0.4415584366267499,\n",
       " 0.47826086490548214,\n",
       " 0.3023255766143862,\n",
       " 0.6545454495471076,\n",
       " 0.5901639294598228,\n",
       " 0.6548672516375598,\n",
       " 0.304761899784127,\n",
       " 0.17948717543721246]"
      ]
     },
     "execution_count": 123,
     "metadata": {},
     "output_type": "execute_result"
    }
   ],
   "source": [
    "len(rouge_1_scores)\n",
    "\n",
    "rouge_1_scores"
   ]
  },
  {
   "cell_type": "code",
   "execution_count": 124,
   "metadata": {},
   "outputs": [
    {
     "data": {
      "text/plain": [
       "0.20696501983423318"
      ]
     },
     "execution_count": 124,
     "metadata": {},
     "output_type": "execute_result"
    }
   ],
   "source": [
    "results_gpt4o['rouge_1'] = rouge_1_scores\n",
    "results_gpt4o['rouge_2'] = rouge_2_scores\n",
    "results_gpt4o['rouge_l'] = rouge_l_scores\n",
    "\n",
    "results_gpt4o['rouge_2'].describe()\n",
    "\n",
    "results_gpt4o['rouge_2'].mean()"
   ]
  }
 ],
 "metadata": {
  "kernelspec": {
   "display_name": "Python 3",
   "language": "python",
   "name": "python3"
  },
  "language_info": {
   "codemirror_mode": {
    "name": "ipython",
    "version": 3
   },
   "file_extension": ".py",
   "mimetype": "text/x-python",
   "name": "python",
   "nbconvert_exporter": "python",
   "pygments_lexer": "ipython3",
   "version": "3.10.13"
  }
 },
 "nbformat": 4,
 "nbformat_minor": 2
}
